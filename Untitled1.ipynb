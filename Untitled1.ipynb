{
 "cells": [
  {
   "cell_type": "code",
   "execution_count": 1,
   "id": "157c0703-1f6d-4ece-84b7-d4f267f2a4f4",
   "metadata": {},
   "outputs": [],
   "source": [
    "import torch"
   ]
  },
  {
   "cell_type": "code",
   "execution_count": 9,
   "id": "25281488-3d59-496c-a1d1-0dc1dbc9e80c",
   "metadata": {},
   "outputs": [],
   "source": [
    "!gdown https://drive.google.com/u/0/uc?id=1YTiKZ1hQnKvTEbXIxFXjGg61pBAch_N7&confirm=t"
   ]
  },
  {
   "cell_type": "code",
   "execution_count": 10,
   "id": "2d2268a5-27ee-45ac-be7b-a3c8e57c1eb5",
   "metadata": {},
   "outputs": [],
   "source": [
    "import gdown"
   ]
  },
  {
   "cell_type": "code",
   "execution_count": null,
   "id": "b549cf2c-f416-4885-90da-bbf686edefe9",
   "metadata": {},
   "outputs": [],
   "source": [
    "gdown.gdown("
   ]
  },
  {
   "cell_type": "code",
   "execution_count": 2,
   "id": "53e974e8-fc60-496b-94a8-0d795d435787",
   "metadata": {},
   "outputs": [
    {
     "ename": "FileNotFoundError",
     "evalue": "[Errno 2] No such file or directory: 'LaMa_models/big-lama-with-discr/models/big-lama-with-discr-remove-loss_segm_pl.ckpt'",
     "output_type": "error",
     "traceback": [
      "\u001b[0;31m---------------------------------------------------------------------------\u001b[0m",
      "\u001b[0;31mFileNotFoundError\u001b[0m                         Traceback (most recent call last)",
      "\u001b[0;32m<ipython-input-2-75ea3b990f7f>\u001b[0m in \u001b[0;36m<module>\u001b[0;34m\u001b[0m\n\u001b[0;32m----> 1\u001b[0;31m \u001b[0mstate\u001b[0m \u001b[0;34m=\u001b[0m \u001b[0mtorch\u001b[0m\u001b[0;34m.\u001b[0m\u001b[0mload\u001b[0m\u001b[0;34m(\u001b[0m\u001b[0;34m\"LaMa_models/big-lama-with-discr/models/big-lama-with-discr-remove-loss_segm_pl.ckpt\"\u001b[0m\u001b[0;34m)\u001b[0m\u001b[0;34m\u001b[0m\u001b[0;34m\u001b[0m\u001b[0m\n\u001b[0m",
      "\u001b[0;32m~/miniconda/envs/lama/lib/python3.6/site-packages/torch/serialization.py\u001b[0m in \u001b[0;36mload\u001b[0;34m(f, map_location, pickle_module, **pickle_load_args)\u001b[0m\n\u001b[1;32m    592\u001b[0m         \u001b[0mpickle_load_args\u001b[0m\u001b[0;34m[\u001b[0m\u001b[0;34m'encoding'\u001b[0m\u001b[0;34m]\u001b[0m \u001b[0;34m=\u001b[0m \u001b[0;34m'utf-8'\u001b[0m\u001b[0;34m\u001b[0m\u001b[0;34m\u001b[0m\u001b[0m\n\u001b[1;32m    593\u001b[0m \u001b[0;34m\u001b[0m\u001b[0m\n\u001b[0;32m--> 594\u001b[0;31m     \u001b[0;32mwith\u001b[0m \u001b[0m_open_file_like\u001b[0m\u001b[0;34m(\u001b[0m\u001b[0mf\u001b[0m\u001b[0;34m,\u001b[0m \u001b[0;34m'rb'\u001b[0m\u001b[0;34m)\u001b[0m \u001b[0;32mas\u001b[0m \u001b[0mopened_file\u001b[0m\u001b[0;34m:\u001b[0m\u001b[0;34m\u001b[0m\u001b[0;34m\u001b[0m\u001b[0m\n\u001b[0m\u001b[1;32m    595\u001b[0m         \u001b[0;32mif\u001b[0m \u001b[0m_is_zipfile\u001b[0m\u001b[0;34m(\u001b[0m\u001b[0mopened_file\u001b[0m\u001b[0;34m)\u001b[0m\u001b[0;34m:\u001b[0m\u001b[0;34m\u001b[0m\u001b[0;34m\u001b[0m\u001b[0m\n\u001b[1;32m    596\u001b[0m             \u001b[0;31m# The zipfile reader is going to advance the current file position.\u001b[0m\u001b[0;34m\u001b[0m\u001b[0;34m\u001b[0m\u001b[0;34m\u001b[0m\u001b[0m\n",
      "\u001b[0;32m~/miniconda/envs/lama/lib/python3.6/site-packages/torch/serialization.py\u001b[0m in \u001b[0;36m_open_file_like\u001b[0;34m(name_or_buffer, mode)\u001b[0m\n\u001b[1;32m    228\u001b[0m \u001b[0;32mdef\u001b[0m \u001b[0m_open_file_like\u001b[0m\u001b[0;34m(\u001b[0m\u001b[0mname_or_buffer\u001b[0m\u001b[0;34m,\u001b[0m \u001b[0mmode\u001b[0m\u001b[0;34m)\u001b[0m\u001b[0;34m:\u001b[0m\u001b[0;34m\u001b[0m\u001b[0;34m\u001b[0m\u001b[0m\n\u001b[1;32m    229\u001b[0m     \u001b[0;32mif\u001b[0m \u001b[0m_is_path\u001b[0m\u001b[0;34m(\u001b[0m\u001b[0mname_or_buffer\u001b[0m\u001b[0;34m)\u001b[0m\u001b[0;34m:\u001b[0m\u001b[0;34m\u001b[0m\u001b[0;34m\u001b[0m\u001b[0m\n\u001b[0;32m--> 230\u001b[0;31m         \u001b[0;32mreturn\u001b[0m \u001b[0m_open_file\u001b[0m\u001b[0;34m(\u001b[0m\u001b[0mname_or_buffer\u001b[0m\u001b[0;34m,\u001b[0m \u001b[0mmode\u001b[0m\u001b[0;34m)\u001b[0m\u001b[0;34m\u001b[0m\u001b[0;34m\u001b[0m\u001b[0m\n\u001b[0m\u001b[1;32m    231\u001b[0m     \u001b[0;32melse\u001b[0m\u001b[0;34m:\u001b[0m\u001b[0;34m\u001b[0m\u001b[0;34m\u001b[0m\u001b[0m\n\u001b[1;32m    232\u001b[0m         \u001b[0;32mif\u001b[0m \u001b[0;34m'w'\u001b[0m \u001b[0;32min\u001b[0m \u001b[0mmode\u001b[0m\u001b[0;34m:\u001b[0m\u001b[0;34m\u001b[0m\u001b[0;34m\u001b[0m\u001b[0m\n",
      "\u001b[0;32m~/miniconda/envs/lama/lib/python3.6/site-packages/torch/serialization.py\u001b[0m in \u001b[0;36m__init__\u001b[0;34m(self, name, mode)\u001b[0m\n\u001b[1;32m    209\u001b[0m \u001b[0;32mclass\u001b[0m \u001b[0m_open_file\u001b[0m\u001b[0;34m(\u001b[0m\u001b[0m_opener\u001b[0m\u001b[0;34m)\u001b[0m\u001b[0;34m:\u001b[0m\u001b[0;34m\u001b[0m\u001b[0;34m\u001b[0m\u001b[0m\n\u001b[1;32m    210\u001b[0m     \u001b[0;32mdef\u001b[0m \u001b[0m__init__\u001b[0m\u001b[0;34m(\u001b[0m\u001b[0mself\u001b[0m\u001b[0;34m,\u001b[0m \u001b[0mname\u001b[0m\u001b[0;34m,\u001b[0m \u001b[0mmode\u001b[0m\u001b[0;34m)\u001b[0m\u001b[0;34m:\u001b[0m\u001b[0;34m\u001b[0m\u001b[0;34m\u001b[0m\u001b[0m\n\u001b[0;32m--> 211\u001b[0;31m         \u001b[0msuper\u001b[0m\u001b[0;34m(\u001b[0m\u001b[0m_open_file\u001b[0m\u001b[0;34m,\u001b[0m \u001b[0mself\u001b[0m\u001b[0;34m)\u001b[0m\u001b[0;34m.\u001b[0m\u001b[0m__init__\u001b[0m\u001b[0;34m(\u001b[0m\u001b[0mopen\u001b[0m\u001b[0;34m(\u001b[0m\u001b[0mname\u001b[0m\u001b[0;34m,\u001b[0m \u001b[0mmode\u001b[0m\u001b[0;34m)\u001b[0m\u001b[0;34m)\u001b[0m\u001b[0;34m\u001b[0m\u001b[0;34m\u001b[0m\u001b[0m\n\u001b[0m\u001b[1;32m    212\u001b[0m \u001b[0;34m\u001b[0m\u001b[0m\n\u001b[1;32m    213\u001b[0m     \u001b[0;32mdef\u001b[0m \u001b[0m__exit__\u001b[0m\u001b[0;34m(\u001b[0m\u001b[0mself\u001b[0m\u001b[0;34m,\u001b[0m \u001b[0;34m*\u001b[0m\u001b[0margs\u001b[0m\u001b[0;34m)\u001b[0m\u001b[0;34m:\u001b[0m\u001b[0;34m\u001b[0m\u001b[0;34m\u001b[0m\u001b[0m\n",
      "\u001b[0;31mFileNotFoundError\u001b[0m: [Errno 2] No such file or directory: 'LaMa_models/big-lama-with-discr/models/big-lama-with-discr-remove-loss_segm_pl.ckpt'"
     ]
    }
   ],
   "source": [
    "state = torch.load(\"LaMa_models/big-lama-with-discr/models/big-lama-with-discr-remove-loss_segm_pl.ckpt\")"
   ]
  },
  {
   "cell_type": "code",
   "execution_count": 11,
   "id": "95d6c840-fee0-4179-b5b6-94aa2be845e8",
   "metadata": {},
   "outputs": [],
   "source": [
    "models = set()\n",
    "for key in state[\"state_dict\"].keys():\n",
    "    models.add(key.split(\".\")[0])"
   ]
  },
  {
   "cell_type": "code",
   "execution_count": 12,
   "id": "85692585-e0ee-4d23-b351-204263a10317",
   "metadata": {},
   "outputs": [
    {
     "data": {
      "text/plain": [
       "{'discriminator', 'generator', 'test_evaluator', 'val_evaluator'}"
      ]
     },
     "execution_count": 12,
     "metadata": {},
     "output_type": "execute_result"
    }
   ],
   "source": [
    "models"
   ]
  },
  {
   "cell_type": "code",
   "execution_count": 13,
   "id": "6df4ec2e-f86b-4bff-b3e0-d4e475d01564",
   "metadata": {},
   "outputs": [],
   "source": [
    "state_fourier = torch.load(\"LaMa_models/lama-places/lama-fourier/models/best.ckpt\")"
   ]
  },
  {
   "cell_type": "code",
   "execution_count": 18,
   "id": "db736916-64f5-428b-9776-13a38499d29a",
   "metadata": {},
   "outputs": [],
   "source": [
    "models2 = set()\n",
    "for key in state_fourier[\"state_dict\"].keys():\n",
    "    models2.add(key.split(\".\")[0])"
   ]
  },
  {
   "cell_type": "code",
   "execution_count": 19,
   "id": "d7fafeb3-95b4-454d-bd4d-7130ed7fb6ab",
   "metadata": {},
   "outputs": [
    {
     "data": {
      "text/plain": [
       "{'generator', 'test_evaluator', 'val_evaluator'}"
      ]
     },
     "execution_count": 19,
     "metadata": {},
     "output_type": "execute_result"
    }
   ],
   "source": [
    "models2"
   ]
  },
  {
   "cell_type": "code",
   "execution_count": 32,
   "id": "8cce8d87-73a2-406d-aa7d-4108d2d7eb3e",
   "metadata": {},
   "outputs": [],
   "source": [
    "for key, value in state[\"state_dict\"].items():\n",
    "    if \"discriminator\" in key:\n",
    "        state_fourier[\"state_dict\"][key] = value"
   ]
  },
  {
   "cell_type": "code",
   "execution_count": 24,
   "id": "9bbee86e-7286-4a4b-bd84-278e8287b0c8",
   "metadata": {},
   "outputs": [
    {
     "data": {
      "text/plain": [
       "dict_keys(['epoch', 'global_step', 'pytorch-lightning_version', 'callbacks', 'lr_schedulers', 'state_dict'])"
      ]
     },
     "execution_count": 24,
     "metadata": {},
     "output_type": "execute_result"
    }
   ],
   "source": [
    "state_fourier.keys()"
   ]
  },
  {
   "cell_type": "code",
   "execution_count": 25,
   "id": "2a1a78aa-823b-46b1-960a-105bbb7ca9c1",
   "metadata": {},
   "outputs": [
    {
     "data": {
      "text/plain": [
       "odict_keys(['state_dict', 'epoch', 'global_step', 'pytorch-lightning_version', 'callbacks', 'lr_schedulers', 'hparams_name', 'hyper_parameters', 'hparams_type'])"
      ]
     },
     "execution_count": 25,
     "metadata": {},
     "output_type": "execute_result"
    }
   ],
   "source": [
    "state.keys()"
   ]
  },
  {
   "cell_type": "code",
   "execution_count": 29,
   "id": "992ee4c6-e7f6-4280-9f14-87a3615f5cb9",
   "metadata": {},
   "outputs": [
    {
     "data": {
      "text/plain": [
       "{pytorch_lightning.callbacks.model_checkpoint.ModelCheckpoint: {'monitor': 'val_ssim_fid100_f1_total_mean',\n",
       "  'best_model_score': tensor(0.9099),\n",
       "  'best_model_path': '/group-volume/User-Driven-Content-Generation/r.suvorov/inpainting/experiments/r.suvorov_2021-04-30_14-41-12_train_simple_pix2pix2_gap_sdpl_novgg_large_b18_ffc075_batch8x15/models/epoch=22-step=574999.ckpt',\n",
       "  'current_score': tensor(0.9099),\n",
       "  'dirpath': '/group-volume/User-Driven-Content-Generation/r.suvorov/inpainting/experiments/r.suvorov_2021-04-30_14-41-12_train_simple_pix2pix2_gap_sdpl_novgg_large_b18_ffc075_batch8x15/models'}}"
      ]
     },
     "execution_count": 29,
     "metadata": {},
     "output_type": "execute_result"
    }
   ],
   "source": [
    "state['callbacks']"
   ]
  },
  {
   "cell_type": "code",
   "execution_count": 31,
   "id": "02b65ed6-ca29-4970-aa15-0184ce84362a",
   "metadata": {},
   "outputs": [
    {
     "data": {
      "text/plain": [
       "{pytorch_lightning.callbacks.model_checkpoint.ModelCheckpoint: {'best_model_score': tensor(0.9023, dtype=torch.float64),\n",
       "  'best_model_path': '/group-volume/User-Driven-Content-Generation/r.suvorov/inpainting/experiments/r.suvorov_2021-03-05_17-34-05_train_ablv2_work_ffc075_resume/models/epoch=39.ckpt'}}"
      ]
     },
     "execution_count": 31,
     "metadata": {},
     "output_type": "execute_result"
    }
   ],
   "source": [
    "state_fourier['callbacks']"
   ]
  },
  {
   "cell_type": "code",
   "execution_count": 39,
   "id": "c578a5b1-e3b5-4710-96a0-ca6cbe390954",
   "metadata": {},
   "outputs": [],
   "source": [
    "torch.save(state_fourier, \"LaMa_models/lama-places/lama-fourier/models/best_with_discr.ckpt\")"
   ]
  },
  {
   "cell_type": "code",
   "execution_count": 37,
   "id": "f283e403-9c7b-4b8d-838c-46551a6bdd67",
   "metadata": {},
   "outputs": [
    {
     "data": {
      "text/plain": [
       "23"
      ]
     },
     "execution_count": 37,
     "metadata": {},
     "output_type": "execute_result"
    }
   ],
   "source": [
    "state[\"epoch\"]"
   ]
  },
  {
   "cell_type": "code",
   "execution_count": 38,
   "id": "ca6b5c76-c468-4363-9b92-3502334f15ed",
   "metadata": {},
   "outputs": [],
   "source": [
    "state_fourier[\"epoch\"] = 23"
   ]
  },
  {
   "cell_type": "code",
   "execution_count": null,
   "id": "02881813-ea42-4168-95eb-29f91652d101",
   "metadata": {},
   "outputs": [],
   "source": []
  },
  {
   "cell_type": "code",
   "execution_count": null,
   "id": "2b335b10-8fd9-4220-ba77-fbfb60161445",
   "metadata": {},
   "outputs": [],
   "source": []
  }
 ],
 "metadata": {
  "kernelspec": {
   "display_name": "Python 3",
   "language": "python",
   "name": "python3"
  },
  "language_info": {
   "codemirror_mode": {
    "name": "ipython",
    "version": 3
   },
   "file_extension": ".py",
   "mimetype": "text/x-python",
   "name": "python",
   "nbconvert_exporter": "python",
   "pygments_lexer": "ipython3",
   "version": "3.6.13"
  }
 },
 "nbformat": 4,
 "nbformat_minor": 5
}
